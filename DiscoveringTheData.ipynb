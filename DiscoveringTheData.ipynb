{
  "nbformat": 4,
  "nbformat_minor": 0,
  "metadata": {
    "colab": {
      "name": "Discovery.ipynb",
      "version": "0.3.2",
      "provenance": [],
      "collapsed_sections": [],
      "include_colab_link": true
    },
    "kernelspec": {
      "name": "python3",
      "display_name": "Python 3"
    }
  },
  "cells": [
    {
      "cell_type": "markdown",
      "metadata": {
        "id": "view-in-github",
        "colab_type": "text"
      },
      "source": [
        "<a href=\"https://colab.research.google.com/github/vertumno/probabilidade-analise/blob/master/DiscoveringTheData.ipynb\" target=\"_parent\"><img src=\"https://colab.research.google.com/assets/colab-badge.svg\" alt=\"Open In Colab\"/></a>"
      ]
    },
    {
      "metadata": {
        "id": "E9wO-8hquthg",
        "colab_type": "text"
      },
      "cell_type": "markdown",
      "source": [
        "## To Do List: \n",
        "- Precisa ainda refazer os links ao modo como é usado na variavel cursos_url, para tirar a dependência do bit.do\n",
        "- Fazer o mesmo processo para as demais turnos, manha e noite.\n",
        "- Testar o projeto usando outros anos, ex 2016_1, 2016_2,....\n"
      ]
    },
    {
      "metadata": {
        "id": "kX3vyRugG2iK",
        "colab_type": "code",
        "colab": {}
      },
      "cell_type": "code",
      "source": [
        "import pandas as pd"
      ],
      "execution_count": 0,
      "outputs": []
    },
    {
      "metadata": {
        "id": "wqF0PoqRpVpO",
        "colab_type": "text"
      },
      "cell_type": "markdown",
      "source": [
        "### A idéia é passar como parâmetro na construção do objeto o ano/período da turma a ser examinada.\n",
        "\n",
        "```python\n",
        "      turmas_2015_2 = Turmas('2015_2')\n",
        "```\n",
        "A agregação dos dados foi feita de modo que:\n",
        "  - Existem 3 dataframes usados:\n",
        "    - turmas: Representa todas as turmas cadastradas na UFRN.\n",
        "    - notas: Agrega todas as notas lançadas na UFRN.\n",
        "    - disciplinas: Contém todas as disciplinas cadastradas na UFRN.\n",
        "  - Na função set_id_componente, foi descorbeto qual a id_componente que é representado pelo nome da disciplina RPMTI.\n",
        "  - Em seguida é feito a coleta do id_curso para auxilho na busca dos dados.\n",
        "  - Na função set_turmas_stats(self):\n",
        "    - Uma lista com todos os id_turmas baseados no id_componente. Assim traduzimos o código da disciplina para o código da turma.\n",
        "    - Um dataframe com todas as notas das turmas do curso do BTI.\n",
        "    - A partir da listas das turmas aka. id_turmas, e pesquisando estas chaves no dataframe de all_bti_notas, é gerado um novo dataframe, \n",
        "    contendo apenas as notas referentes as turmas de RPMTI, o bti_rpmti_turmas, que será o dataframe final a ser analisado pelo grupo.\n",
        "\n",
        "\n",
        "\n",
        "**O método: ** \n",
        "```python\n",
        "      read_data(self)\n",
        "```\n",
        "- Pode gerar erros ou se tornar lento por conta da leitura dos dados serem diretos do servidor.\n",
        "\n"
      ]
    },
    {
      "metadata": {
        "id": "mTLDTcdHhHSZ",
        "colab_type": "code",
        "colab": {}
      },
      "cell_type": "code",
      "source": [
        "\n",
        "class Turmas(object):\n",
        "  def __init__(self, searched_year):\n",
        "    self.turmas_url = 'http://bit.do/turmas_ufrn_'+searched_year\n",
        "    self.notas_url = 'http://bit.do/notas_ufrn_'+searched_year\n",
        "    self.turmas = pd.DataFrame()\n",
        "    self.notas = pd.DataFrame()\n",
        "    self.rpmti_tarde = pd.DataFrame()\n",
        "   \n",
        "  def read_data(self):\n",
        "    self.turmas = pd.read_csv(turmas_url, sep=';')\n",
        "    self.notas = pd.read_csv(notas_url, sep=';')\n",
        "   \n",
        "  def set_id_componente(self):\n",
        "    disciplinas_url = 'http://bit.do/componentes_curriculares_ufrn'\n",
        "    disciplinas = pd.read_csv(disciplinas_url, sep=';', usecols=['id_componente','codigo','nome','unidade_responsavel'])\n",
        "    \n",
        "    self.id_componente = int(disciplinas[disciplinas['nome'] == 'RESOLUÇÃO DE PROBLEMAS MATEMÁTICOS PARA TI']['id_componente'])\n",
        "    \n",
        "  def set_id_curso(self):\n",
        "    cursos_url = 'http://dados.ufrn.br/dataset/02526b96-cf40-4507-90b0-3afe5ddd53e7/resource/a10bc434-9a2d-491a-ae8c-41cf643c35bc/download/cursos-de-graduacao.csv'\n",
        "    cursos_url = pd.read_csv(cursos_url, sep=';')\n",
        "    \n",
        "    self.id_curso = int(cursos_url[cursos_url['nome'] == 'TECNOLOGIA DA INFORMAÇÃO']['id_curso'])\n",
        "  \n",
        "  def set_turmas_stats(self):\n",
        "    self.id_turmas = self.turmas[self.turmas['id_componente_curricular'] == self.id_componente]['id_turma'].unique()\n",
        "    self.horarios = self.turmas[self.turmas['id_componente_curricular'] == self.id_componente]['descricao_horario'].unique()\n",
        "    self.all_bti_turmas = self.notas[self.notas['id_curso'] == self.id_curso]\n",
        "    \n",
        "    cc = 0\n",
        "    for it in self.horarios:\n",
        "      if 'T' in it:\n",
        "        self.rpmti_tarde = self.all_bti_turmas[self.all_bti_turmas['id_turma'] == self.id_turmas[cc]]\n",
        "      cc = cc+1\n",
        "      \n",
        "    \n",
        "  def remove_duplicates(self):\n",
        "    self.rpmti_tarde = self.rpmti_tarde.drop_duplicates('discente', keep='first')\n",
        "  \n",
        " "
      ],
      "execution_count": 0,
      "outputs": []
    },
    {
      "metadata": {
        "id": "Fu7VRsxryuVn",
        "colab_type": "code",
        "colab": {}
      },
      "cell_type": "code",
      "source": [
        "turmas_2015 = Turmas('2015_2')\n",
        "turmas_2015.read_data()"
      ],
      "execution_count": 0,
      "outputs": []
    },
    {
      "metadata": {
        "id": "BKIh_Jz41HC6",
        "colab_type": "code",
        "colab": {}
      },
      "cell_type": "code",
      "source": [
        "turmas_2015.set_id_componente()\n",
        "turmas_2015.set_id_curso()\n",
        "turmas_2015.set_turmas_stats()"
      ],
      "execution_count": 0,
      "outputs": []
    },
    {
      "metadata": {
        "id": "QE-eC5ooMrlN",
        "colab_type": "code",
        "colab": {}
      },
      "cell_type": "code",
      "source": [
        "# Este dataframe raw, tem 3 linhas para cada aluno, alem de valores duplicados.\n",
        "turmas_2015.remove_duplicates()\n"
      ],
      "execution_count": 0,
      "outputs": []
    },
    {
      "metadata": {
        "id": "70JQT_RHpATp",
        "colab_type": "code",
        "colab": {
          "base_uri": "https://localhost:8080/",
          "height": 365
        },
        "outputId": "87b518de-8b97-4ab7-b1a4-75331f347474"
      },
      "cell_type": "code",
      "source": [
        "turmas_2015.rpmti_tarde['descricao'].value_counts().plot.barh()"
      ],
      "execution_count": 173,
      "outputs": [
        {
          "output_type": "execute_result",
          "data": {
            "text/plain": [
              "<matplotlib.axes._subplots.AxesSubplot at 0x7f138fba72b0>"
            ]
          },
          "metadata": {
            "tags": []
          },
          "execution_count": 173
        },
        {
          "output_type": "display_data",
          "data": {
            "image/png": "[encoded data removed]",
            "text/plain": [
              "<matplotlib.figure.Figure at 0x7f138fba7cc0>"
            ]
          },
          "metadata": {
            "tags": []
          }
        }
      ]
    },
    {
      "metadata": {
        "id": "fJTzaspIszYq",
        "colab_type": "code",
        "colab": {}
      },
      "cell_type": "code",
      "source": [
        ""
      ],
      "execution_count": 0,
      "outputs": []
    }
  ]
}