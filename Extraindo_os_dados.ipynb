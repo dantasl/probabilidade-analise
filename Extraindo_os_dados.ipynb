{
  "nbformat": 4,
  "nbformat_minor": 0,
  "metadata": {
    "colab": {
      "name": "Extraindo_os_dados.ipynb",
      "version": "0.3.2",
      "provenance": [],
      "collapsed_sections": [],
      "toc_visible": true,
      "include_colab_link": true
    },
    "kernelspec": {
      "name": "python3",
      "display_name": "Python 3"
    }
  },
  "cells": [
    {
      "cell_type": "markdown",
      "metadata": {
        "id": "view-in-github",
        "colab_type": "text"
      },
      "source": [
        "<a href=\"https://colab.research.google.com/github/vertumno/probabilidade-analise/blob/master/Extraindo_os_dados.ipynb\" target=\"_parent\"><img src=\"https://colab.research.google.com/assets/colab-badge.svg\" alt=\"Open In Colab\"/></a>"
      ]
    },
    {
      "metadata": {
        "id": "oKICboVO3IaO",
        "colab_type": "text"
      },
      "cell_type": "markdown",
      "source": [
        "# O que queremos?"
      ]
    },
    {
      "metadata": {
        "id": "F7h-kbbn3MrG",
        "colab_type": "text"
      },
      "cell_type": "markdown",
      "source": [
        "Decidimos analisar os três turnos (matutino, vespertino e noturno) das turmas de **Resolução de Problemas Matemáticas Para Tecnologia da Informação - RPMTI** durante três semestres letivos correspondentes a **2015.2**, **2016.1** e **2016.2**.\n",
        "\n",
        "As informações para a nossa análise serão extraídas da API de [dados públicos](http://dados.ufrn.br) da **Universidade Federal do Rio Grande do Norte - UFRN**. "
      ]
    },
    {
      "metadata": {
        "id": "RqjDrSx04ufJ",
        "colab_type": "text"
      },
      "cell_type": "markdown",
      "source": [
        "# Como conseguir esses dados?"
      ]
    },
    {
      "metadata": {
        "id": "l87kIj7e4-yS",
        "colab_type": "text"
      },
      "cell_type": "markdown",
      "source": [
        "Inicialmente precisamos descobrir dados sobre a disciplina RPTMI. É possível encontrar a relação de todas as disciplinas presenciais da UFRN atráves [desse link](http://dados.ufrn.br/dataset/3fea67e8-6916-4ed0-aaa6-9a8ca06a9bdc/resource/9a3521d2-4bc5-4fda-93f0-f701c8a20727/download/componentes-curriculares-presenciais.csv).\n",
        "\n",
        "Abrindo o dataset das disciplinas pelo **Libre Office Calc**, é possível visualizar rapidamente o conteúdo de algumas linhas. Para descobrir os dados sobre RPMTI basta aplicar os seguintes filtros:\n",
        "\n",
        "* **nivel:** G\n",
        "* **unidade_responsavel:** INSTITUTO METROPOLE DIGITAL\n",
        "* **codigo:** IMD0019\n",
        "\n",
        "Agora é possível montar um dicionário com as informações chave da disciplina."
      ]
    },
    {
      "metadata": {
        "id": "5P3T1VKx923X",
        "colab_type": "code",
        "outputId": "cd0b35fa-a5b7-487d-b81b-730759dd69d4",
        "colab": {
          "base_uri": "https://localhost:8080/",
          "height": 89
        }
      },
      "cell_type": "code",
      "source": [
        "rpmti_info = {\n",
        "    \"codigo\": \"IMD0019\",\n",
        "    \"nome\": \"RESOLUÇÃO DE PROBLEMAS MATEMÁTICOS PARA TI\",\n",
        "    \"id_componente\": 55031,\n",
        "    \"carga_horaria\": 180\n",
        "}\n",
        "\n",
        "rpmti_info"
      ],
      "execution_count": 1,
      "outputs": [
        {
          "output_type": "execute_result",
          "data": {
            "text/plain": [
              "{'carga_horaria': 180,\n",
              " 'codigo': 'IMD0019',\n",
              " 'id_componente': 55031,\n",
              " 'nome': 'RESOLUÇÃO DE PROBLEMAS MATEMÁTICOS PARA TI'}"
            ]
          },
          "metadata": {
            "tags": []
          },
          "execution_count": 1
        }
      ]
    },
    {
      "metadata": {
        "id": "zwawi-3W_jdA",
        "colab_type": "text"
      },
      "cell_type": "markdown",
      "source": [
        "Prosseguindo com a busca, acessamos novamente a API para conseguir os dados das turmas em [2015.2](http://dados.ufrn.br/dataset/1938623d-fb07-41a4-a55a-1691f7c3b8b5/resource/7c59621c-4a8b-49d4-b319-83cfea9bdf28/download/turmas-2015.2.csv), [2016.1](http://dados.ufrn.br/dataset/1938623d-fb07-41a4-a55a-1691f7c3b8b5/resource/322d9977-ba15-47f1-8216-75a1ca78e197/download/turmas-2016.1.csv) e [2016.2](http://dados.ufrn.br/dataset/1938623d-fb07-41a4-a55a-1691f7c3b8b5/resource/5e8e3228-7f22-40a2-9efd-561c44844567/download/turmas-2016.2.csv).\n",
        "\n",
        "Agora, começaremos a tratar esses datasets para manter apenas as informações que nos são necessárias.\n"
      ]
    },
    {
      "metadata": {
        "id": "ogUwAAgxEDCO",
        "colab_type": "code",
        "colab": {}
      },
      "cell_type": "code",
      "source": [
        "# Importando as bibliotecas necessárias para análise\n",
        "import pandas as pd\n",
        "import numpy as np"
      ],
      "execution_count": 0,
      "outputs": []
    },
    {
      "metadata": {
        "id": "FvpbHF3SB8G0",
        "colab_type": "code",
        "colab": {}
      },
      "cell_type": "code",
      "source": [
        "# Lendo os datasets\n",
        "rpmti_2015_2 = pd.read_csv(\"turmas-2015.2.csv\", sep=\";\")\n",
        "rpmti_2016_1 = pd.read_csv(\"turmas-2016.1.csv\", sep=\";\")\n",
        "rpmti_2016_2 = pd.read_csv(\"turmas-2016.2.csv\", sep=\";\")\n",
        "\n",
        "# Concatenando datasets\n",
        "rpmti_turmas = pd.concat([rpmti_2015_2, rpmti_2016_1, rpmti_2016_2])\n",
        "\n",
        "# Tratando para deixar apenas RPMTI\n",
        "rpmti_turmas = rpmti_turmas[rpmti_turmas[\"id_componente_curricular\"] == rpmti_info[\"id_componente\"]]"
      ],
      "execution_count": 0,
      "outputs": []
    },
    {
      "metadata": {
        "id": "rTz9xs4zSIwH",
        "colab_type": "code",
        "outputId": "e95ff73c-c16b-4075-d882-db1091a70c23",
        "colab": {
          "base_uri": "https://localhost:8080/",
          "height": 669
        }
      },
      "cell_type": "code",
      "source": [
        "# Excluindo colunas que não serão analizadas\n",
        "rpmti_turmas.drop([\n",
        "    \"id_docente_interno\", \"id_docente_externo\", \"observacao\", \"nivel_ensino\",\n",
        "    \"data_inicio\", \"data_fim\", \"distancia\", \"data_consolidacao\", \"agrupadora\",\n",
        "    \"id_turma_agrupadora\", \"situacao_turma\", \"convenio\", \"campus_turma\", \"tipo\",\n",
        "    \"modalidade_participantes\", \"id_componente_curricular\", \"total_solicitacoes\",\n",
        "    \"qtd_aulas_lancadas\", \"Unnamed: 25\"\n",
        "], axis=1, inplace=True)\n",
        "\n",
        "# Visualizando o dataset\n",
        "rpmti_turmas"
      ],
      "execution_count": 0,
      "outputs": [
        {
          "output_type": "execute_result",
          "data": {
            "text/html": [
              "<div>\n",
              "<style scoped>\n",
              "    .dataframe tbody tr th:only-of-type {\n",
              "        vertical-align: middle;\n",
              "    }\n",
              "\n",
              "    .dataframe tbody tr th {\n",
              "        vertical-align: top;\n",
              "    }\n",
              "\n",
              "    .dataframe thead th {\n",
              "        text-align: right;\n",
              "    }\n",
              "</style>\n",
              "<table border=\"1\" class=\"dataframe\">\n",
              "  <thead>\n",
              "    <tr style=\"text-align: right;\">\n",
              "      <th></th>\n",
              "      <th>id_turma</th>\n",
              "      <th>codigo_turma</th>\n",
              "      <th>local</th>\n",
              "      <th>ano</th>\n",
              "      <th>periodo</th>\n",
              "      <th>descricao_horario</th>\n",
              "      <th>capacidade_aluno</th>\n",
              "    </tr>\n",
              "  </thead>\n",
              "  <tbody>\n",
              "    <tr>\n",
              "      <th>3461</th>\n",
              "      <td>57565214</td>\n",
              "      <td>01</td>\n",
              "      <td>3H2 - Setor III</td>\n",
              "      <td>2015</td>\n",
              "      <td>2</td>\n",
              "      <td>246T1234 (27/07/2015 - 19/12/2015)</td>\n",
              "      <td>76.0</td>\n",
              "    </tr>\n",
              "    <tr>\n",
              "      <th>3462</th>\n",
              "      <td>57565214</td>\n",
              "      <td>01</td>\n",
              "      <td>3H2 - Setor III</td>\n",
              "      <td>2015</td>\n",
              "      <td>2</td>\n",
              "      <td>246T1234 (27/07/2015 - 19/12/2015)</td>\n",
              "      <td>76.0</td>\n",
              "    </tr>\n",
              "    <tr>\n",
              "      <th>3471</th>\n",
              "      <td>57565222</td>\n",
              "      <td>02</td>\n",
              "      <td>3H2 - Setor III</td>\n",
              "      <td>2015</td>\n",
              "      <td>2</td>\n",
              "      <td>246M1234 (27/07/2015 - 19/12/2015)</td>\n",
              "      <td>60.0</td>\n",
              "    </tr>\n",
              "    <tr>\n",
              "      <th>3472</th>\n",
              "      <td>57565222</td>\n",
              "      <td>02</td>\n",
              "      <td>3H2 - Setor III</td>\n",
              "      <td>2015</td>\n",
              "      <td>2</td>\n",
              "      <td>246M1234 (27/07/2015 - 19/12/2015)</td>\n",
              "      <td>60.0</td>\n",
              "    </tr>\n",
              "    <tr>\n",
              "      <th>3474</th>\n",
              "      <td>57565224</td>\n",
              "      <td>03</td>\n",
              "      <td>3H2 - Setor III</td>\n",
              "      <td>2015</td>\n",
              "      <td>2</td>\n",
              "      <td>246N1234 (27/07/2015 - 19/12/2015)</td>\n",
              "      <td>61.0</td>\n",
              "    </tr>\n",
              "    <tr>\n",
              "      <th>3475</th>\n",
              "      <td>57565224</td>\n",
              "      <td>03</td>\n",
              "      <td>3H2 - Setor III</td>\n",
              "      <td>2015</td>\n",
              "      <td>2</td>\n",
              "      <td>246N1234 (27/07/2015 - 19/12/2015)</td>\n",
              "      <td>61.0</td>\n",
              "    </tr>\n",
              "    <tr>\n",
              "      <th>5349</th>\n",
              "      <td>57576566</td>\n",
              "      <td>01</td>\n",
              "      <td>SETOR III - 3H7</td>\n",
              "      <td>2016</td>\n",
              "      <td>1</td>\n",
              "      <td>246M1234 (01/02/2016 - 18/06/2016)</td>\n",
              "      <td>77.0</td>\n",
              "    </tr>\n",
              "    <tr>\n",
              "      <th>5350</th>\n",
              "      <td>57576566</td>\n",
              "      <td>01</td>\n",
              "      <td>SETOR III - 3H7</td>\n",
              "      <td>2016</td>\n",
              "      <td>1</td>\n",
              "      <td>246M1234 (01/02/2016 - 18/06/2016)</td>\n",
              "      <td>77.0</td>\n",
              "    </tr>\n",
              "    <tr>\n",
              "      <th>5353</th>\n",
              "      <td>57576568</td>\n",
              "      <td>02</td>\n",
              "      <td>SETOR III - 3H6</td>\n",
              "      <td>2016</td>\n",
              "      <td>1</td>\n",
              "      <td>246M3456 (01/02/2016 - 18/06/2016)</td>\n",
              "      <td>82.0</td>\n",
              "    </tr>\n",
              "    <tr>\n",
              "      <th>5354</th>\n",
              "      <td>57576568</td>\n",
              "      <td>02</td>\n",
              "      <td>SETOR III - 3H6</td>\n",
              "      <td>2016</td>\n",
              "      <td>1</td>\n",
              "      <td>246M3456 (01/02/2016 - 18/06/2016)</td>\n",
              "      <td>82.0</td>\n",
              "    </tr>\n",
              "    <tr>\n",
              "      <th>5355</th>\n",
              "      <td>57576569</td>\n",
              "      <td>03</td>\n",
              "      <td>SETOR III - 3H7</td>\n",
              "      <td>2016</td>\n",
              "      <td>1</td>\n",
              "      <td>246N1234 (01/02/2016 - 18/06/2016)</td>\n",
              "      <td>75.0</td>\n",
              "    </tr>\n",
              "    <tr>\n",
              "      <th>5356</th>\n",
              "      <td>57576569</td>\n",
              "      <td>03</td>\n",
              "      <td>SETOR III - 3H7</td>\n",
              "      <td>2016</td>\n",
              "      <td>1</td>\n",
              "      <td>246N1234 (01/02/2016 - 18/06/2016)</td>\n",
              "      <td>75.0</td>\n",
              "    </tr>\n",
              "    <tr>\n",
              "      <th>5358</th>\n",
              "      <td>57576571</td>\n",
              "      <td>04</td>\n",
              "      <td>SETOR III - 3H6</td>\n",
              "      <td>2016</td>\n",
              "      <td>1</td>\n",
              "      <td>246N1234 (01/02/2016 - 18/06/2016)</td>\n",
              "      <td>87.0</td>\n",
              "    </tr>\n",
              "    <tr>\n",
              "      <th>5359</th>\n",
              "      <td>57576571</td>\n",
              "      <td>04</td>\n",
              "      <td>SETOR III - 3H6</td>\n",
              "      <td>2016</td>\n",
              "      <td>1</td>\n",
              "      <td>246N1234 (01/02/2016 - 18/06/2016)</td>\n",
              "      <td>87.0</td>\n",
              "    </tr>\n",
              "    <tr>\n",
              "      <th>5360</th>\n",
              "      <td>57576572</td>\n",
              "      <td>05</td>\n",
              "      <td>SETOR III - 3H6</td>\n",
              "      <td>2016</td>\n",
              "      <td>1</td>\n",
              "      <td>246T1234 (01/02/2016 - 18/06/2016)</td>\n",
              "      <td>76.0</td>\n",
              "    </tr>\n",
              "    <tr>\n",
              "      <th>5361</th>\n",
              "      <td>57576572</td>\n",
              "      <td>05</td>\n",
              "      <td>SETOR III - 3H6</td>\n",
              "      <td>2016</td>\n",
              "      <td>1</td>\n",
              "      <td>246T1234 (01/02/2016 - 18/06/2016)</td>\n",
              "      <td>76.0</td>\n",
              "    </tr>\n",
              "    <tr>\n",
              "      <th>3404</th>\n",
              "      <td>57586202</td>\n",
              "      <td>01</td>\n",
              "      <td>A308 - CIVT</td>\n",
              "      <td>2016</td>\n",
              "      <td>2</td>\n",
              "      <td>246T2345 (25/07/2016 - 17/12/2016)</td>\n",
              "      <td>74.0</td>\n",
              "    </tr>\n",
              "    <tr>\n",
              "      <th>3405</th>\n",
              "      <td>57586202</td>\n",
              "      <td>01</td>\n",
              "      <td>A308 - CIVT</td>\n",
              "      <td>2016</td>\n",
              "      <td>2</td>\n",
              "      <td>246T2345 (25/07/2016 - 17/12/2016)</td>\n",
              "      <td>74.0</td>\n",
              "    </tr>\n",
              "    <tr>\n",
              "      <th>3424</th>\n",
              "      <td>57586215</td>\n",
              "      <td>02</td>\n",
              "      <td>B321</td>\n",
              "      <td>2016</td>\n",
              "      <td>2</td>\n",
              "      <td>246N1234 (25/07/2016 - 17/12/2016)</td>\n",
              "      <td>69.0</td>\n",
              "    </tr>\n",
              "    <tr>\n",
              "      <th>3425</th>\n",
              "      <td>57586215</td>\n",
              "      <td>02</td>\n",
              "      <td>B321</td>\n",
              "      <td>2016</td>\n",
              "      <td>2</td>\n",
              "      <td>246N1234 (25/07/2016 - 17/12/2016)</td>\n",
              "      <td>69.0</td>\n",
              "    </tr>\n",
              "  </tbody>\n",
              "</table>\n",
              "</div>"
            ],
            "text/plain": [
              "      id_turma codigo_turma            local   ano  periodo  \\\n",
              "3461  57565214           01  3H2 - Setor III  2015        2   \n",
              "3462  57565214           01  3H2 - Setor III  2015        2   \n",
              "3471  57565222           02  3H2 - Setor III  2015        2   \n",
              "3472  57565222           02  3H2 - Setor III  2015        2   \n",
              "3474  57565224           03  3H2 - Setor III  2015        2   \n",
              "3475  57565224           03  3H2 - Setor III  2015        2   \n",
              "5349  57576566           01  SETOR III - 3H7  2016        1   \n",
              "5350  57576566           01  SETOR III - 3H7  2016        1   \n",
              "5353  57576568           02  SETOR III - 3H6  2016        1   \n",
              "5354  57576568           02  SETOR III - 3H6  2016        1   \n",
              "5355  57576569           03  SETOR III - 3H7  2016        1   \n",
              "5356  57576569           03  SETOR III - 3H7  2016        1   \n",
              "5358  57576571           04  SETOR III - 3H6  2016        1   \n",
              "5359  57576571           04  SETOR III - 3H6  2016        1   \n",
              "5360  57576572           05  SETOR III - 3H6  2016        1   \n",
              "5361  57576572           05  SETOR III - 3H6  2016        1   \n",
              "3404  57586202           01      A308 - CIVT  2016        2   \n",
              "3405  57586202           01      A308 - CIVT  2016        2   \n",
              "3424  57586215           02             B321  2016        2   \n",
              "3425  57586215           02             B321  2016        2   \n",
              "\n",
              "                       descricao_horario  capacidade_aluno  \n",
              "3461  246T1234 (27/07/2015 - 19/12/2015)              76.0  \n",
              "3462  246T1234 (27/07/2015 - 19/12/2015)              76.0  \n",
              "3471  246M1234 (27/07/2015 - 19/12/2015)              60.0  \n",
              "3472  246M1234 (27/07/2015 - 19/12/2015)              60.0  \n",
              "3474  246N1234 (27/07/2015 - 19/12/2015)              61.0  \n",
              "3475  246N1234 (27/07/2015 - 19/12/2015)              61.0  \n",
              "5349  246M1234 (01/02/2016 - 18/06/2016)              77.0  \n",
              "5350  246M1234 (01/02/2016 - 18/06/2016)              77.0  \n",
              "5353  246M3456 (01/02/2016 - 18/06/2016)              82.0  \n",
              "5354  246M3456 (01/02/2016 - 18/06/2016)              82.0  \n",
              "5355  246N1234 (01/02/2016 - 18/06/2016)              75.0  \n",
              "5356  246N1234 (01/02/2016 - 18/06/2016)              75.0  \n",
              "5358  246N1234 (01/02/2016 - 18/06/2016)              87.0  \n",
              "5359  246N1234 (01/02/2016 - 18/06/2016)              87.0  \n",
              "5360  246T1234 (01/02/2016 - 18/06/2016)              76.0  \n",
              "5361  246T1234 (01/02/2016 - 18/06/2016)              76.0  \n",
              "3404  246T2345 (25/07/2016 - 17/12/2016)              74.0  \n",
              "3405  246T2345 (25/07/2016 - 17/12/2016)              74.0  \n",
              "3424  246N1234 (25/07/2016 - 17/12/2016)              69.0  \n",
              "3425  246N1234 (25/07/2016 - 17/12/2016)              69.0  "
            ]
          },
          "metadata": {
            "tags": []
          },
          "execution_count": 32
        }
      ]
    },
    {
      "metadata": {
        "id": "aj10kHWfSuxR",
        "colab_type": "text"
      },
      "cell_type": "markdown",
      "source": [
        "Nota-se ainda que no dataset as turmas estão duplicadas. Vamos resolver isso atrvés do seguinte código:"
      ]
    },
    {
      "metadata": {
        "id": "b43_0DjAS3Ey",
        "colab_type": "code",
        "outputId": "05f291ce-b7fc-4c9c-c06e-fa893174ba08",
        "colab": {
          "base_uri": "https://localhost:8080/",
          "height": 359
        }
      },
      "cell_type": "code",
      "source": [
        "rpmti_turmas = rpmti_turmas.drop_duplicates(subset='id_turma', keep=\"last\")\n",
        "rpmti_turmas"
      ],
      "execution_count": 0,
      "outputs": [
        {
          "output_type": "execute_result",
          "data": {
            "text/html": [
              "<div>\n",
              "<style scoped>\n",
              "    .dataframe tbody tr th:only-of-type {\n",
              "        vertical-align: middle;\n",
              "    }\n",
              "\n",
              "    .dataframe tbody tr th {\n",
              "        vertical-align: top;\n",
              "    }\n",
              "\n",
              "    .dataframe thead th {\n",
              "        text-align: right;\n",
              "    }\n",
              "</style>\n",
              "<table border=\"1\" class=\"dataframe\">\n",
              "  <thead>\n",
              "    <tr style=\"text-align: right;\">\n",
              "      <th></th>\n",
              "      <th>id_turma</th>\n",
              "      <th>codigo_turma</th>\n",
              "      <th>local</th>\n",
              "      <th>ano</th>\n",
              "      <th>periodo</th>\n",
              "      <th>descricao_horario</th>\n",
              "      <th>capacidade_aluno</th>\n",
              "    </tr>\n",
              "  </thead>\n",
              "  <tbody>\n",
              "    <tr>\n",
              "      <th>3462</th>\n",
              "      <td>57565214</td>\n",
              "      <td>01</td>\n",
              "      <td>3H2 - Setor III</td>\n",
              "      <td>2015</td>\n",
              "      <td>2</td>\n",
              "      <td>246T1234 (27/07/2015 - 19/12/2015)</td>\n",
              "      <td>76.0</td>\n",
              "    </tr>\n",
              "    <tr>\n",
              "      <th>3472</th>\n",
              "      <td>57565222</td>\n",
              "      <td>02</td>\n",
              "      <td>3H2 - Setor III</td>\n",
              "      <td>2015</td>\n",
              "      <td>2</td>\n",
              "      <td>246M1234 (27/07/2015 - 19/12/2015)</td>\n",
              "      <td>60.0</td>\n",
              "    </tr>\n",
              "    <tr>\n",
              "      <th>3475</th>\n",
              "      <td>57565224</td>\n",
              "      <td>03</td>\n",
              "      <td>3H2 - Setor III</td>\n",
              "      <td>2015</td>\n",
              "      <td>2</td>\n",
              "      <td>246N1234 (27/07/2015 - 19/12/2015)</td>\n",
              "      <td>61.0</td>\n",
              "    </tr>\n",
              "    <tr>\n",
              "      <th>5350</th>\n",
              "      <td>57576566</td>\n",
              "      <td>01</td>\n",
              "      <td>SETOR III - 3H7</td>\n",
              "      <td>2016</td>\n",
              "      <td>1</td>\n",
              "      <td>246M1234 (01/02/2016 - 18/06/2016)</td>\n",
              "      <td>77.0</td>\n",
              "    </tr>\n",
              "    <tr>\n",
              "      <th>5354</th>\n",
              "      <td>57576568</td>\n",
              "      <td>02</td>\n",
              "      <td>SETOR III - 3H6</td>\n",
              "      <td>2016</td>\n",
              "      <td>1</td>\n",
              "      <td>246M3456 (01/02/2016 - 18/06/2016)</td>\n",
              "      <td>82.0</td>\n",
              "    </tr>\n",
              "    <tr>\n",
              "      <th>5356</th>\n",
              "      <td>57576569</td>\n",
              "      <td>03</td>\n",
              "      <td>SETOR III - 3H7</td>\n",
              "      <td>2016</td>\n",
              "      <td>1</td>\n",
              "      <td>246N1234 (01/02/2016 - 18/06/2016)</td>\n",
              "      <td>75.0</td>\n",
              "    </tr>\n",
              "    <tr>\n",
              "      <th>5359</th>\n",
              "      <td>57576571</td>\n",
              "      <td>04</td>\n",
              "      <td>SETOR III - 3H6</td>\n",
              "      <td>2016</td>\n",
              "      <td>1</td>\n",
              "      <td>246N1234 (01/02/2016 - 18/06/2016)</td>\n",
              "      <td>87.0</td>\n",
              "    </tr>\n",
              "    <tr>\n",
              "      <th>5361</th>\n",
              "      <td>57576572</td>\n",
              "      <td>05</td>\n",
              "      <td>SETOR III - 3H6</td>\n",
              "      <td>2016</td>\n",
              "      <td>1</td>\n",
              "      <td>246T1234 (01/02/2016 - 18/06/2016)</td>\n",
              "      <td>76.0</td>\n",
              "    </tr>\n",
              "    <tr>\n",
              "      <th>3405</th>\n",
              "      <td>57586202</td>\n",
              "      <td>01</td>\n",
              "      <td>A308 - CIVT</td>\n",
              "      <td>2016</td>\n",
              "      <td>2</td>\n",
              "      <td>246T2345 (25/07/2016 - 17/12/2016)</td>\n",
              "      <td>74.0</td>\n",
              "    </tr>\n",
              "    <tr>\n",
              "      <th>3425</th>\n",
              "      <td>57586215</td>\n",
              "      <td>02</td>\n",
              "      <td>B321</td>\n",
              "      <td>2016</td>\n",
              "      <td>2</td>\n",
              "      <td>246N1234 (25/07/2016 - 17/12/2016)</td>\n",
              "      <td>69.0</td>\n",
              "    </tr>\n",
              "  </tbody>\n",
              "</table>\n",
              "</div>"
            ],
            "text/plain": [
              "      id_turma codigo_turma            local   ano  periodo  \\\n",
              "3462  57565214           01  3H2 - Setor III  2015        2   \n",
              "3472  57565222           02  3H2 - Setor III  2015        2   \n",
              "3475  57565224           03  3H2 - Setor III  2015        2   \n",
              "5350  57576566           01  SETOR III - 3H7  2016        1   \n",
              "5354  57576568           02  SETOR III - 3H6  2016        1   \n",
              "5356  57576569           03  SETOR III - 3H7  2016        1   \n",
              "5359  57576571           04  SETOR III - 3H6  2016        1   \n",
              "5361  57576572           05  SETOR III - 3H6  2016        1   \n",
              "3405  57586202           01      A308 - CIVT  2016        2   \n",
              "3425  57586215           02             B321  2016        2   \n",
              "\n",
              "                       descricao_horario  capacidade_aluno  \n",
              "3462  246T1234 (27/07/2015 - 19/12/2015)              76.0  \n",
              "3472  246M1234 (27/07/2015 - 19/12/2015)              60.0  \n",
              "3475  246N1234 (27/07/2015 - 19/12/2015)              61.0  \n",
              "5350  246M1234 (01/02/2016 - 18/06/2016)              77.0  \n",
              "5354  246M3456 (01/02/2016 - 18/06/2016)              82.0  \n",
              "5356  246N1234 (01/02/2016 - 18/06/2016)              75.0  \n",
              "5359  246N1234 (01/02/2016 - 18/06/2016)              87.0  \n",
              "5361  246T1234 (01/02/2016 - 18/06/2016)              76.0  \n",
              "3405  246T2345 (25/07/2016 - 17/12/2016)              74.0  \n",
              "3425  246N1234 (25/07/2016 - 17/12/2016)              69.0  "
            ]
          },
          "metadata": {
            "tags": []
          },
          "execution_count": 34
        }
      ]
    },
    {
      "metadata": {
        "id": "J0R652o-TKP9",
        "colab_type": "text"
      },
      "cell_type": "markdown",
      "source": [
        "Agora nós temos informações referentes a todas as turmas de RPMTI ofertadas nos três semestres que estamos analisando.\n",
        "\n",
        "Também é possível encontrar informações referentes às matrículas dos discentes, incluindo o status final (i.e. APROVADO, REPROVADO, etc.). Aqui estão os links para fazer o download desses dados para as turmas de [2015.2](http://dados.ufrn.br/dataset/c8650d55-3c5a-4787-a126-d28a4ef902a6/resource/baa6c8b4-2072-417f-b238-c028ccc8c14b/download/matriculas-de-2015.2.csv), [2016.1](http://dados.ufrn.br/dataset/c8650d55-3c5a-4787-a126-d28a4ef902a6/resource/4778d3ce-8898-46a8-a623-ee6a480a2980/download/matriculas-de-2016.1.csv) e [2016.2](http://dados.ufrn.br/dataset/c8650d55-3c5a-4787-a126-d28a4ef902a6/resource/f6179838-b619-4d7d-af9c-18c438b80dd4/download/matriculas-de-2016.2.csv).\n",
        "\n",
        "Devido ao tamanho elevado desses datasets, escolheu-se fazer o upload e já trabalhar com a versão tratada dos dados.\n",
        "\n",
        "O seguinte código foi desenvolvido para realizar esse tratamento (não há necessidade de executar a célula):"
      ]
    },
    {
      "metadata": {
        "id": "2aJHBZ9leQEf",
        "colab_type": "code",
        "colab": {}
      },
      "cell_type": "code",
      "source": [
        "import pandas as pd\n",
        "import numpy as np\n",
        "\n",
        "# Extraindo apenas as turmas de RPMTI de 2015.2\n",
        "m_15_2 = pd.read_csv(\"matriculas-de-2015.2.csv\", sep=\";\")\n",
        "m_15_2 = m_15_2[\n",
        "    (m_15_2[\"id_turma\"] == 57565214) | (m_15_2[\"id_turma\"] == 57565222) |\n",
        "    (m_15_2[\"id_turma\"] == 57565224)\n",
        "]\n",
        "\n",
        "# Extraindo apenas as turmas de RPMTI de 2016.1\n",
        "m_16_1 = pd.read_csv(\"matriculas-de-2016.1.csv\", sep=\";\")\n",
        "m_16_1 = m_16_1[\n",
        "    (m_16_1[\"id_turma\"] == 57576566) | (m_16_1[\"id_turma\"] == 57576568) |\n",
        "    (m_16_1[\"id_turma\"] == 57576569) | (m_16_1[\"id_turma\"] == 57576571) |\n",
        "    (m_16_1[\"id_turma\"] == 57576572)\n",
        "]\n",
        "\n",
        "# Extraindo apenas as turmas de RPMTI de 2016.2\n",
        "m_16_2 = pd.read_csv(\"matriculas-de-2016.2.csv\", sep=\";\")\n",
        "m_16_2 = m_16_2[\n",
        "    (m_16_2[\"id_turma\"] == 57586202) | (m_16_2[\"id_turma\"] == 57586215)\n",
        "]\n",
        "\n",
        "# Removendo os alunos \"Indeferidos\"\n",
        "m_15_2 = m_15_2[m_15_2[\"descricao\"] != \"INDEFERIDO\"]\n",
        "m_16_1 = m_16_1[m_16_1[\"descricao\"] != \"INDEFERIDO\"]\n",
        "m_16_2 = m_16_2[m_16_2[\"descricao\"] != \"INDEFERIDO\"]\n",
        "\n",
        "# Cada aluno está no dataset triplicado, removendo esse problema\n",
        "m_15_2 = m_15_2.drop_duplicates(subset='discente', keep=\"last\")\n",
        "m_16_1 = m_16_1.drop_duplicates(subset='discente', keep=\"last\")\n",
        "m_16_2 = m_16_2.drop_duplicates(subset='discente', keep=\"last\")\n",
        "\n",
        "# Adicionando informação sobre o semestre\n",
        "m_15_2[\"semestre\"] = \"2015.2\"\n",
        "m_16_1[\"semestre\"] = \"2016.1\"\n",
        "m_16_2[\"semestre\"] = \"2016.2\"\n",
        "\n",
        "# Concatenando todos os datasets\n",
        "rpmti = pd.concat([m_15_2, m_16_1, m_16_2])\n",
        "rpmti.drop(\"Unnamed: 10\", axis=1, inplace=True)\n",
        "\n",
        "# Convertendo o resultado para um arquivo\n",
        "rpmti.to_csv(\"alunos_rpmti.csv\", encoding='utf-8', index=False)"
      ],
      "execution_count": 0,
      "outputs": []
    },
    {
      "metadata": {
        "id": "WIc8RGlXeaG6",
        "colab_type": "text"
      },
      "cell_type": "markdown",
      "source": [
        "Agora podemos utilizar o nosso dataset já tratado para iniciar as análises sobre os alunos."
      ]
    },
    {
      "metadata": {
        "id": "hiNBISGgeg9G",
        "colab_type": "code",
        "outputId": "1a3610f1-09fc-4443-975f-b966a93960f8",
        "colab": {
          "base_uri": "https://localhost:8080/",
          "height": 305
        }
      },
      "cell_type": "code",
      "source": [
        "rpmti_dataset = pd.read_csv(\"alunos_rpmti.csv\")\n",
        "rpmti_dataset.info()"
      ],
      "execution_count": 20,
      "outputs": [
        {
          "output_type": "stream",
          "text": [
            "<class 'pandas.core.frame.DataFrame'>\n",
            "RangeIndex: 628 entries, 0 to 627\n",
            "Data columns (total 11 columns):\n",
            "id_turma               628 non-null int64\n",
            "discente               628 non-null object\n",
            "id_curso               627 non-null float64\n",
            "unidade                533 non-null float64\n",
            "nota                   473 non-null float64\n",
            "reposicao              533 non-null object\n",
            "faltas_unidade         533 non-null float64\n",
            "media_final            472 non-null float64\n",
            "numero_total_faltas    520 non-null float64\n",
            "descricao              628 non-null object\n",
            "semestre               628 non-null float64\n",
            "dtypes: float64(7), int64(1), object(3)\n",
            "memory usage: 54.0+ KB\n"
          ],
          "name": "stdout"
        }
      ]
    },
    {
      "metadata": {
        "id": "_ZmCTRQ1DnBq",
        "colab_type": "code",
        "colab": {}
      },
      "cell_type": "code",
      "source": [
        "# Criando listas com todas as id_turmas referentes a cada periodo.\n",
        "rpmti_2015_2 = [57565214, 57565222, 57565224]\n",
        "rpmti_2016_1 = [57576566, 57576568, 57576569, 57576571, 57576572]\n",
        "rpmti_2016_2 = [57586202, 57586215]"
      ],
      "execution_count": 0,
      "outputs": []
    },
    {
      "metadata": {
        "id": "RTt806uSEart",
        "colab_type": "code",
        "colab": {
          "base_uri": "https://localhost:8080/",
          "height": 305
        },
        "outputId": "bec9c953-ef92-487e-9a2f-1fb6b25144f6"
      },
      "cell_type": "code",
      "source": [
        "data_2015_2 = pd.DataFrame()\n",
        "\n",
        "for it in rpmti_2015_2:\n",
        "  data_2015_2 = pd.concat([data_2015_2, rpmti_dataset[rpmti_dataset['id_turma'] == it]]) \n",
        "  \n",
        "data_2015_2.info()  "
      ],
      "execution_count": 16,
      "outputs": [
        {
          "output_type": "stream",
          "text": [
            "<class 'pandas.core.frame.DataFrame'>\n",
            "Int64Index: 125 entries, 0 to 116\n",
            "Data columns (total 11 columns):\n",
            "id_turma               125 non-null int64\n",
            "discente               125 non-null object\n",
            "id_curso               124 non-null float64\n",
            "unidade                108 non-null float64\n",
            "nota                   104 non-null float64\n",
            "reposicao              108 non-null object\n",
            "faltas_unidade         108 non-null float64\n",
            "media_final            104 non-null float64\n",
            "numero_total_faltas    108 non-null float64\n",
            "descricao              125 non-null object\n",
            "semestre               125 non-null float64\n",
            "dtypes: float64(7), int64(1), object(3)\n",
            "memory usage: 11.7+ KB\n"
          ],
          "name": "stdout"
        }
      ]
    },
    {
      "metadata": {
        "id": "gjhe3kGCF39o",
        "colab_type": "code",
        "colab": {
          "base_uri": "https://localhost:8080/",
          "height": 305
        },
        "outputId": "4f59cc84-8bfc-45cc-fed7-7e1bb75b95dd"
      },
      "cell_type": "code",
      "source": [
        "data_2016_1 = pd.DataFrame()\n",
        "\n",
        "for it in rpmti_2016_1:\n",
        "  data_2016_1 = pd.concat([data_2016_1, rpmti_dataset[rpmti_dataset['id_turma'] == it]]) \n",
        "  \n",
        "data_2016_1.info()"
      ],
      "execution_count": 17,
      "outputs": [
        {
          "output_type": "stream",
          "text": [
            "<class 'pandas.core.frame.DataFrame'>\n",
            "Int64Index: 351 entries, 125 to 370\n",
            "Data columns (total 11 columns):\n",
            "id_turma               351 non-null int64\n",
            "discente               351 non-null object\n",
            "id_curso               351 non-null float64\n",
            "unidade                281 non-null float64\n",
            "nota                   250 non-null float64\n",
            "reposicao              281 non-null object\n",
            "faltas_unidade         281 non-null float64\n",
            "media_final            249 non-null float64\n",
            "numero_total_faltas    268 non-null float64\n",
            "descricao              351 non-null object\n",
            "semestre               351 non-null float64\n",
            "dtypes: float64(7), int64(1), object(3)\n",
            "memory usage: 32.9+ KB\n"
          ],
          "name": "stdout"
        }
      ]
    },
    {
      "metadata": {
        "id": "fzW_vopqHY9C",
        "colab_type": "code",
        "colab": {
          "base_uri": "https://localhost:8080/",
          "height": 305
        },
        "outputId": "a5d387e6-efdc-49cd-9a2e-f6844cd482d9"
      },
      "cell_type": "code",
      "source": [
        "data_2016_2 = pd.DataFrame()\n",
        "\n",
        "for it in rpmti_2016_2:\n",
        "  data_2016_2 = pd.concat([data_2016_2, rpmti_dataset[rpmti_dataset['id_turma'] == it]]) \n",
        "  \n",
        "data_2016_2.info()"
      ],
      "execution_count": 19,
      "outputs": [
        {
          "output_type": "stream",
          "text": [
            "<class 'pandas.core.frame.DataFrame'>\n",
            "Int64Index: 152 entries, 476 to 627\n",
            "Data columns (total 11 columns):\n",
            "id_turma               152 non-null int64\n",
            "discente               152 non-null object\n",
            "id_curso               152 non-null float64\n",
            "unidade                144 non-null float64\n",
            "nota                   119 non-null float64\n",
            "reposicao              144 non-null object\n",
            "faltas_unidade         144 non-null float64\n",
            "media_final            119 non-null float64\n",
            "numero_total_faltas    144 non-null float64\n",
            "descricao              152 non-null object\n",
            "semestre               152 non-null float64\n",
            "dtypes: float64(7), int64(1), object(3)\n",
            "memory usage: 14.2+ KB\n"
          ],
          "name": "stdout"
        }
      ]
    },
    {
      "metadata": {
        "id": "UiDDHmDgHgae",
        "colab_type": "code",
        "colab": {}
      },
      "cell_type": "code",
      "source": [
        "data_2015_2.to_csv('rpmti_2015_2.csv', encoding='utf-8', index=False)\n",
        "data_2016_1.to_csv('rpmti_2016_1.csv', encoding='utf-8', index=False)\n",
        "data_2016_2.to_csv('rpmti_2016_2.csv', encoding='utf-8', index=False)"
      ],
      "execution_count": 0,
      "outputs": []
    }
  ]
}