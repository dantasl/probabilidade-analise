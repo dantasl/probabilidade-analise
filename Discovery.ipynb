{
  "nbformat": 4,
  "nbformat_minor": 0,
  "metadata": {
    "colab": {
      "name": "Discovery.ipynb",
      "version": "0.3.2",
      "provenance": [],
      "collapsed_sections": [],
      "include_colab_link": true
    },
    "kernelspec": {
      "name": "python3",
      "display_name": "Python 3"
    }
  },
  "cells": [
    {
      "cell_type": "markdown",
      "metadata": {
        "id": "view-in-github",
        "colab_type": "text"
      },
      "source": [
        "<a href=\"https://colab.research.google.com/github/vertumno/probabilidade-analise/blob/master/Discovery.ipynb\" target=\"_parent\"><img src=\"https://colab.research.google.com/assets/colab-badge.svg\" alt=\"Open In Colab\"/></a>"
      ]
    },
    {
      "metadata": {
        "id": "pddD0hviuQ_v",
        "colab_type": "text"
      },
      "cell_type": "markdown",
      "source": [
        "# Discovering The Data\n",
        "\n",
        "A idéia neste notebook é fazer a mineração da informação entre os diferentes banco de dados.\n",
        "Para isso deveremos fazer:\n",
        "- Achar o id da turma, baseado no seu nome(**Resolução de **) no dataframe de turmas_ufrn_2015_2\n",
        "- Com o id da turma em mãos"
      ]
    },
    {
      "metadata": {
        "id": "kX3vyRugG2iK",
        "colab_type": "code",
        "colab": {}
      },
      "cell_type": "code",
      "source": [
        "import pandas as pd"
      ],
      "execution_count": 0,
      "outputs": []
    },
    {
      "metadata": {
        "id": "JdxRyoWT5gHR",
        "colab_type": "code",
        "colab": {
          "base_uri": "https://localhost:8080/",
          "height": 204
        },
        "outputId": "7ee04f2b-f401-45e6-8ef1-e8e5daa349a0"
      },
      "cell_type": "code",
      "source": [
        "disciplinas_url = 'http://bit.do/componentes_curriculares_ufrn'\n",
        "disciplinas = pd.read_csv(disciplinas_url, \n",
        "                          sep=';', \n",
        "                          usecols=['id_componente','codigo','nome','unidade_responsavel'])\n",
        "disciplinas.head()"
      ],
      "execution_count": 145,
      "outputs": [
        {
          "output_type": "execute_result",
          "data": {
            "text/html": [
              "<div>\n",
              "<style scoped>\n",
              "    .dataframe tbody tr th:only-of-type {\n",
              "        vertical-align: middle;\n",
              "    }\n",
              "\n",
              "    .dataframe tbody tr th {\n",
              "        vertical-align: top;\n",
              "    }\n",
              "\n",
              "    .dataframe thead th {\n",
              "        text-align: right;\n",
              "    }\n",
              "</style>\n",
              "<table border=\"1\" class=\"dataframe\">\n",
              "  <thead>\n",
              "    <tr style=\"text-align: right;\">\n",
              "      <th></th>\n",
              "      <th>id_componente</th>\n",
              "      <th>codigo</th>\n",
              "      <th>nome</th>\n",
              "      <th>unidade_responsavel</th>\n",
              "    </tr>\n",
              "  </thead>\n",
              "  <tbody>\n",
              "    <tr>\n",
              "      <th>0</th>\n",
              "      <td>18643</td>\n",
              "      <td>MUT508</td>\n",
              "      <td>COMPOSIÇÃO EM MÚSICA POPULAR III</td>\n",
              "      <td>ESCOLA DE MÚSICA</td>\n",
              "    </tr>\n",
              "    <tr>\n",
              "      <th>1</th>\n",
              "      <td>18644</td>\n",
              "      <td>MUT516</td>\n",
              "      <td>CO-REPETIÇÃO</td>\n",
              "      <td>ESCOLA DE MÚSICA</td>\n",
              "    </tr>\n",
              "    <tr>\n",
              "      <th>2</th>\n",
              "      <td>18645</td>\n",
              "      <td>MUT520</td>\n",
              "      <td>CONTRABAIXO ACÚSTICO I</td>\n",
              "      <td>ESCOLA DE MÚSICA</td>\n",
              "    </tr>\n",
              "    <tr>\n",
              "      <th>3</th>\n",
              "      <td>18646</td>\n",
              "      <td>MUT165</td>\n",
              "      <td>PIANO COMPLEMENTAR I</td>\n",
              "      <td>ESCOLA DE MÚSICA</td>\n",
              "    </tr>\n",
              "    <tr>\n",
              "      <th>4</th>\n",
              "      <td>18647</td>\n",
              "      <td>MUT167</td>\n",
              "      <td>PIANO COMPLEMENTAR III</td>\n",
              "      <td>ESCOLA DE MÚSICA</td>\n",
              "    </tr>\n",
              "  </tbody>\n",
              "</table>\n",
              "</div>"
            ],
            "text/plain": [
              "  id_componente  codigo                              nome unidade_responsavel\n",
              "0         18643  MUT508  COMPOSIÇÃO EM MÚSICA POPULAR III    ESCOLA DE MÚSICA\n",
              "1         18644  MUT516                      CO-REPETIÇÃO    ESCOLA DE MÚSICA\n",
              "2         18645  MUT520            CONTRABAIXO ACÚSTICO I    ESCOLA DE MÚSICA\n",
              "3         18646  MUT165              PIANO COMPLEMENTAR I    ESCOLA DE MÚSICA\n",
              "4         18647  MUT167            PIANO COMPLEMENTAR III    ESCOLA DE MÚSICA"
            ]
          },
          "metadata": {
            "tags": []
          },
          "execution_count": 145
        }
      ]
    },
    {
      "metadata": {
        "id": "Crv1cYjeHK0g",
        "colab_type": "code",
        "outputId": "64adfde2-d8c5-4617-8d6c-88d9143b6a15",
        "colab": {
          "base_uri": "https://localhost:8080/",
          "height": 544
        }
      },
      "cell_type": "code",
      "source": [
        "turmas_url = 'http://bit.do/turmas_ufrn_2015_2'\n",
        "turmas = pd.read_csv(turmas_url, sep=';')\n",
        "turmas.info()"
      ],
      "execution_count": 147,
      "outputs": [
        {
          "output_type": "stream",
          "text": [
            "<class 'pandas.core.frame.DataFrame'>\n",
            "RangeIndex: 14761 entries, 0 to 14760\n",
            "Data columns (total 26 columns):\n",
            "id_turma                    14761 non-null int64\n",
            "codigo_turma                14761 non-null object\n",
            "id_docente_interno          13903 non-null float64\n",
            "id_docente_externo          858 non-null float64\n",
            "observacao                  742 non-null object\n",
            "id_componente_curricular    14761 non-null int64\n",
            "nivel_ensino                14761 non-null object\n",
            "campus_turma                10128 non-null object\n",
            "local                       14510 non-null object\n",
            "ano                         14761 non-null int64\n",
            "periodo                     14761 non-null int64\n",
            "data_inicio                 14761 non-null object\n",
            "data_fim                    14761 non-null object\n",
            "descricao_horario           13034 non-null object\n",
            "total_solicitacoes          12339 non-null float64\n",
            "capacidade_aluno            13336 non-null float64\n",
            "tipo                        14761 non-null object\n",
            "distancia                   14761 non-null object\n",
            "data_consolidacao           13836 non-null object\n",
            "agrupadora                  14761 non-null object\n",
            "id_turma_agrupadora         876 non-null float64\n",
            "qtd_aulas_lancadas          13836 non-null float64\n",
            "situacao_turma              14761 non-null object\n",
            "convenio                    0 non-null float64\n",
            "modalidade_participantes    14761 non-null object\n",
            "Unnamed: 25                 0 non-null float64\n",
            "dtypes: float64(8), int64(4), object(14)\n",
            "memory usage: 2.9+ MB\n"
          ],
          "name": "stdout"
        }
      ]
    },
    {
      "metadata": {
        "id": "Psa-vjOsllAv",
        "colab_type": "code",
        "colab": {}
      },
      "cell_type": "code",
      "source": [
        "notas_url = 'http://bit.do/notas_ufrn_2015_2'\n",
        "notas = pd.read_csv(notas_url, sep=';')\n"
      ],
      "execution_count": 0,
      "outputs": []
    },
    {
      "metadata": {
        "id": "mP2Hyxr7bx1q",
        "colab_type": "code",
        "colab": {
          "base_uri": "https://localhost:8080/",
          "height": 408
        },
        "outputId": "78513b7b-bb0e-4af0-a7ef-4f286f62fb31"
      },
      "cell_type": "code",
      "source": [
        "rpmti_turmas_id = turmas[turmas['id_componente_curricular'] == 55031]['id_turma']\n",
        "rpmti_turmas = pd.DataFrame()\n",
        "print(rpmti_turmas_id)\n",
        "for it in rpmti_turmas_id:\n",
        "      frames = [notas[notas['id_turma'] == it]]\n",
        "      rpmti_turmas = pd.concat(frames)\n",
        "      \n",
        "\n",
        "rpmti_turmas.info()"
      ],
      "execution_count": 154,
      "outputs": [
        {
          "output_type": "stream",
          "text": [
            "3461    57565214\n",
            "3462    57565214\n",
            "3471    57565222\n",
            "3472    57565222\n",
            "3474    57565224\n",
            "3475    57565224\n",
            "Name: id_turma, dtype: int64\n",
            "<class 'pandas.core.frame.DataFrame'>\n",
            "Int64Index: 196 entries, 189881 to 518901\n",
            "Data columns (total 11 columns):\n",
            "id_turma               196 non-null int64\n",
            "discente               196 non-null object\n",
            "id_curso               196 non-null float64\n",
            "unidade                186 non-null float64\n",
            "nota                   172 non-null float64\n",
            "reposicao              186 non-null object\n",
            "faltas_unidade         186 non-null float64\n",
            "media_final            168 non-null float64\n",
            "numero_total_faltas    186 non-null float64\n",
            "descricao              196 non-null object\n",
            "Unnamed: 10            0 non-null float64\n",
            "dtypes: float64(7), int64(1), object(3)\n",
            "memory usage: 18.4+ KB\n"
          ],
          "name": "stdout"
        }
      ]
    },
    {
      "metadata": {
        "id": "wqF0PoqRpVpO",
        "colab_type": "text"
      },
      "cell_type": "markdown",
      "source": [
        "### A idéia é passar como parâmetro na construção do objeto o ano/período da turma a ser examinada.\n",
        "\n",
        "```python\n",
        "      turmas_2015_2 = Turmas('2015_2')\n",
        "```\n",
        "\n",
        "\n",
        "**O método: ** \n",
        "```python\n",
        "      read_data(self)\n",
        "```\n",
        "- Pode gerar erros ou se tornar lento por conta da leitura dos dados serem diretos do servidor.\n",
        "- Precisa ainda refazer os links ao modo como é usado na variavel cursos_url, para tirar a dependência do bit.do\n",
        "- Precisa também averiguar a veracidade das informações geradas e testar com outros anos."
      ]
    },
    {
      "metadata": {
        "id": "mTLDTcdHhHSZ",
        "colab_type": "code",
        "colab": {}
      },
      "cell_type": "code",
      "source": [
        "\n",
        "class Turmas(object):\n",
        "  def __init__(self, searched_year):\n",
        "    self.turmas_url = 'http://bit.do/turmas_ufrn_'+searched_year\n",
        "    self.notas_url = 'http://bit.do/notas_ufrn_'+searched_year\n",
        "    self.turmas = pd.DataFrame()\n",
        "    self.notas = pd.DataFrame()\n",
        "    self.bti_rpmti_turmas = pd.DataFrame()\n",
        "   \n",
        "  def read_data(self):\n",
        "    self.turmas = pd.read_csv(turmas_url, sep=';')\n",
        "    self.notas = pd.read_csv(notas_url, sep=';')\n",
        "   \n",
        "  def set_id_componente(self):\n",
        "    disciplinas_url = 'http://bit.do/componentes_curriculares_ufrn'\n",
        "    disciplinas = pd.read_csv(disciplinas_url, sep=';', usecols=['id_componente','codigo','nome','unidade_responsavel'])\n",
        "    \n",
        "    self.id_componente = int(disciplinas[disciplinas['nome'] == 'RESOLUÇÃO DE PROBLEMAS MATEMÁTICOS PARA TI']['id_componente'])\n",
        "    \n",
        "  def set_id_curso(self):\n",
        "    cursos_url = 'http://dados.ufrn.br/dataset/02526b96-cf40-4507-90b0-3afe5ddd53e7/resource/a10bc434-9a2d-491a-ae8c-41cf643c35bc/download/cursos-de-graduacao.csv'\n",
        "    cursos_url = pd.read_csv(cursos_url, sep=';')\n",
        "    \n",
        "    self.id_curso = int(cursos_url[cursos_url['nome'] == 'TECNOLOGIA DA INFORMAÇÃO']['id_curso'])\n",
        "  \n",
        "  def set_turmas_stats(self):\n",
        "    # id_turma é o código das turmas do rpmti baseada na informação do id_componente.\n",
        "    self.id_turmas = self.turmas[self.turmas['id_componente_curricular'] == self.id_componente]['id_turma'].unique()\n",
        "    # Agrego todas as turmas ministradas no curso do bti em um único dataframe.\n",
        "    self.all_bti_turmas = self.notas[self.notas['id_curso'] == self.id_curso]\n",
        "    \n",
        "    # Separo no dataframe de todas as turmas do bti as unicas que batem com o id_turma e \n",
        "    # Concateno estes em um dataframe referente a todas as turmas de rpmti do período passado como parâmetro.\n",
        "    for it in self.id_turmas:\n",
        "      frames = [self.all_bti_turmas[self.all_bti_turmas['id_turma'] == it]]\n",
        "      self.bti_rpmti_turmas = pd.concat(frames)\n",
        "      \n",
        "    \n",
        "  \n",
        "  def get_info(self):\n",
        "    print(self.turmas.info())\n",
        "    print(self.notas.info())\n",
        "  "
      ],
      "execution_count": 0,
      "outputs": []
    },
    {
      "metadata": {
        "id": "Fu7VRsxryuVn",
        "colab_type": "code",
        "colab": {}
      },
      "cell_type": "code",
      "source": [
        "turmas_2015 = Turmas('2015_2')\n",
        "turmas_2015.read_data()"
      ],
      "execution_count": 0,
      "outputs": []
    },
    {
      "metadata": {
        "id": "BKIh_Jz41HC6",
        "colab_type": "code",
        "colab": {}
      },
      "cell_type": "code",
      "source": [
        "turmas_2015.set_id_componente()\n",
        "turmas_2015.set_id_curso()\n",
        "turmas_2015.set_turmas_stats()"
      ],
      "execution_count": 0,
      "outputs": []
    },
    {
      "metadata": {
        "id": "QE-eC5ooMrlN",
        "colab_type": "code",
        "colab": {
          "base_uri": "https://localhost:8080/",
          "height": 204
        },
        "outputId": "a4cdad23-5293-4826-aad6-6570c9480d87"
      },
      "cell_type": "code",
      "source": [
        "turmas_2015.bti_rpmti_turmas.dropna()\n",
        "turmas_2015.bti_rpmti_turmas.head()"
      ],
      "execution_count": 175,
      "outputs": [
        {
          "output_type": "execute_result",
          "data": {
            "text/html": [
              "<div>\n",
              "<style scoped>\n",
              "    .dataframe tbody tr th:only-of-type {\n",
              "        vertical-align: middle;\n",
              "    }\n",
              "\n",
              "    .dataframe tbody tr th {\n",
              "        vertical-align: top;\n",
              "    }\n",
              "\n",
              "    .dataframe thead th {\n",
              "        text-align: right;\n",
              "    }\n",
              "</style>\n",
              "<table border=\"1\" class=\"dataframe\">\n",
              "  <thead>\n",
              "    <tr style=\"text-align: right;\">\n",
              "      <th></th>\n",
              "      <th>id_turma</th>\n",
              "      <th>discente</th>\n",
              "      <th>id_curso</th>\n",
              "      <th>unidade</th>\n",
              "      <th>nota</th>\n",
              "      <th>reposicao</th>\n",
              "      <th>faltas_unidade</th>\n",
              "      <th>media_final</th>\n",
              "      <th>numero_total_faltas</th>\n",
              "      <th>descricao</th>\n",
              "      <th>Unnamed: 10</th>\n",
              "    </tr>\n",
              "  </thead>\n",
              "  <tbody>\n",
              "    <tr>\n",
              "      <th>189881</th>\n",
              "      <td>57565224</td>\n",
              "      <td>631223ebc95c49b6bbc8aacf2119f931</td>\n",
              "      <td>92127264.0</td>\n",
              "      <td>1.0</td>\n",
              "      <td>4.1</td>\n",
              "      <td>f</td>\n",
              "      <td>0.0</td>\n",
              "      <td>6.2</td>\n",
              "      <td>4.0</td>\n",
              "      <td>APROVADO POR NOTA</td>\n",
              "      <td>NaN</td>\n",
              "    </tr>\n",
              "    <tr>\n",
              "      <th>189882</th>\n",
              "      <td>57565224</td>\n",
              "      <td>631223ebc95c49b6bbc8aacf2119f931</td>\n",
              "      <td>92127264.0</td>\n",
              "      <td>2.0</td>\n",
              "      <td>1.3</td>\n",
              "      <td>t</td>\n",
              "      <td>0.0</td>\n",
              "      <td>6.2</td>\n",
              "      <td>4.0</td>\n",
              "      <td>APROVADO POR NOTA</td>\n",
              "      <td>NaN</td>\n",
              "    </tr>\n",
              "    <tr>\n",
              "      <th>189883</th>\n",
              "      <td>57565224</td>\n",
              "      <td>631223ebc95c49b6bbc8aacf2119f931</td>\n",
              "      <td>92127264.0</td>\n",
              "      <td>3.0</td>\n",
              "      <td>7.5</td>\n",
              "      <td>f</td>\n",
              "      <td>0.0</td>\n",
              "      <td>6.2</td>\n",
              "      <td>4.0</td>\n",
              "      <td>APROVADO POR NOTA</td>\n",
              "      <td>NaN</td>\n",
              "    </tr>\n",
              "    <tr>\n",
              "      <th>189884</th>\n",
              "      <td>57565224</td>\n",
              "      <td>e004c3db36070496b0ea8f457bba690e</td>\n",
              "      <td>92127264.0</td>\n",
              "      <td>1.0</td>\n",
              "      <td>2.1</td>\n",
              "      <td>f</td>\n",
              "      <td>0.0</td>\n",
              "      <td>3.3</td>\n",
              "      <td>16.0</td>\n",
              "      <td>REPROVADO</td>\n",
              "      <td>NaN</td>\n",
              "    </tr>\n",
              "    <tr>\n",
              "      <th>189885</th>\n",
              "      <td>57565224</td>\n",
              "      <td>e004c3db36070496b0ea8f457bba690e</td>\n",
              "      <td>92127264.0</td>\n",
              "      <td>2.0</td>\n",
              "      <td>2.4</td>\n",
              "      <td>f</td>\n",
              "      <td>0.0</td>\n",
              "      <td>3.3</td>\n",
              "      <td>16.0</td>\n",
              "      <td>REPROVADO</td>\n",
              "      <td>NaN</td>\n",
              "    </tr>\n",
              "  </tbody>\n",
              "</table>\n",
              "</div>"
            ],
            "text/plain": [
              "        id_turma                          discente    id_curso  unidade  nota  \\\n",
              "189881  57565224  631223ebc95c49b6bbc8aacf2119f931  92127264.0      1.0   4.1   \n",
              "189882  57565224  631223ebc95c49b6bbc8aacf2119f931  92127264.0      2.0   1.3   \n",
              "189883  57565224  631223ebc95c49b6bbc8aacf2119f931  92127264.0      3.0   7.5   \n",
              "189884  57565224  e004c3db36070496b0ea8f457bba690e  92127264.0      1.0   2.1   \n",
              "189885  57565224  e004c3db36070496b0ea8f457bba690e  92127264.0      2.0   2.4   \n",
              "\n",
              "       reposicao  faltas_unidade  media_final  numero_total_faltas  \\\n",
              "189881         f             0.0          6.2                  4.0   \n",
              "189882         t             0.0          6.2                  4.0   \n",
              "189883         f             0.0          6.2                  4.0   \n",
              "189884         f             0.0          3.3                 16.0   \n",
              "189885         f             0.0          3.3                 16.0   \n",
              "\n",
              "                descricao  Unnamed: 10  \n",
              "189881  APROVADO POR NOTA          NaN  \n",
              "189882  APROVADO POR NOTA          NaN  \n",
              "189883  APROVADO POR NOTA          NaN  \n",
              "189884          REPROVADO          NaN  \n",
              "189885          REPROVADO          NaN  "
            ]
          },
          "metadata": {
            "tags": []
          },
          "execution_count": 175
        }
      ]
    },
    {
      "metadata": {
        "id": "Wue7eZ2deEgh",
        "colab_type": "code",
        "colab": {
          "base_uri": "https://localhost:8080/",
          "height": 364
        },
        "outputId": "651e8c1b-e86a-4770-e32d-396d09c77c7b"
      },
      "cell_type": "code",
      "source": [
        "turmas_2015.bti_rpmti_turmas['descricao'].value_counts().plot.barh()"
      ],
      "execution_count": 183,
      "outputs": [
        {
          "output_type": "execute_result",
          "data": {
            "text/plain": [
              "<matplotlib.axes._subplots.AxesSubplot at 0x7f6cd2320940>"
            ]
          },
          "metadata": {
            "tags": []
          },
          "execution_count": 183
        },
        {
          "output_type": "display_data",
          "data": {
            "image/png": "[encoded data removed]",
            "text/plain": [
              "<matplotlib.figure.Figure at 0x7f6ccffade80>"
            ]
          },
          "metadata": {
            "tags": []
          }
        }
      ]
    },
    {
      "metadata": {
        "id": "5ZOUG3YHonpP",
        "colab_type": "code",
        "colab": {}
      },
      "cell_type": "code",
      "source": [
        ""
      ],
      "execution_count": 0,
      "outputs": []
    }
  ]
}