{
  "nbformat": 4,
  "nbformat_minor": 0,
  "metadata": {
    "colab": {
      "name": "Discovery.ipynb",
      "version": "0.3.2",
      "provenance": [],
      "collapsed_sections": [],
      "include_colab_link": true
    },
    "kernelspec": {
      "name": "python3",
      "display_name": "Python 3"
    }
  },
  "cells": [
    {
      "cell_type": "markdown",
      "metadata": {
        "id": "view-in-github",
        "colab_type": "text"
      },
      "source": [
        "<a href=\"https://colab.research.google.com/github/vertumno/probabilidade-analise/blob/master/Discovery.ipynb\" target=\"_parent\"><img src=\"https://colab.research.google.com/assets/colab-badge.svg\" alt=\"Open In Colab\"/></a>"
      ]
    },
    {
      "metadata": {
        "id": "pddD0hviuQ_v",
        "colab_type": "text"
      },
      "cell_type": "markdown",
      "source": [
        "# Discovering The Data\n",
        "\n",
        "A idéia neste notebook é fazer a mineração da informação entre os diferentes banco de dados.\n",
        "Para isso deveremos fazer:\n",
        "- Achar o id da turma, baseado no seu nome(**Resolução de **) no dataframe de turmas_ufrn_2015_2\n",
        "- Com o id da turma em mãos"
      ]
    },
    {
      "metadata": {
        "id": "kX3vyRugG2iK",
        "colab_type": "code",
        "colab": {}
      },
      "cell_type": "code",
      "source": [
        "import pandas as pd"
      ],
      "execution_count": 0,
      "outputs": []
    },
    {
      "metadata": {
        "id": "JdxRyoWT5gHR",
        "colab_type": "code",
        "colab": {
          "base_uri": "https://localhost:8080/",
          "height": 204
        },
        "outputId": "0d2014c7-2c22-46be-a539-e6b24117c3cb"
      },
      "cell_type": "code",
      "source": [
        "disciplinas_url = 'http://bit.do/componentes_curriculares_ufrn'\n",
        "disciplinas = pd.read_csv(disciplinas_url, \n",
        "                          sep=';', \n",
        "                          usecols=['id_componente','codigo','nome','unidade_responsavel'])\n",
        "disciplinas.head()"
      ],
      "execution_count": 39,
      "outputs": [
        {
          "output_type": "execute_result",
          "data": {
            "text/html": [
              "<div>\n",
              "<style scoped>\n",
              "    .dataframe tbody tr th:only-of-type {\n",
              "        vertical-align: middle;\n",
              "    }\n",
              "\n",
              "    .dataframe tbody tr th {\n",
              "        vertical-align: top;\n",
              "    }\n",
              "\n",
              "    .dataframe thead th {\n",
              "        text-align: right;\n",
              "    }\n",
              "</style>\n",
              "<table border=\"1\" class=\"dataframe\">\n",
              "  <thead>\n",
              "    <tr style=\"text-align: right;\">\n",
              "      <th></th>\n",
              "      <th>id_componente</th>\n",
              "      <th>codigo</th>\n",
              "      <th>nome</th>\n",
              "      <th>unidade_responsavel</th>\n",
              "    </tr>\n",
              "  </thead>\n",
              "  <tbody>\n",
              "    <tr>\n",
              "      <th>0</th>\n",
              "      <td>18643</td>\n",
              "      <td>MUT508</td>\n",
              "      <td>COMPOSIÇÃO EM MÚSICA POPULAR III</td>\n",
              "      <td>ESCOLA DE MÚSICA</td>\n",
              "    </tr>\n",
              "    <tr>\n",
              "      <th>1</th>\n",
              "      <td>18644</td>\n",
              "      <td>MUT516</td>\n",
              "      <td>CO-REPETIÇÃO</td>\n",
              "      <td>ESCOLA DE MÚSICA</td>\n",
              "    </tr>\n",
              "    <tr>\n",
              "      <th>2</th>\n",
              "      <td>18645</td>\n",
              "      <td>MUT520</td>\n",
              "      <td>CONTRABAIXO ACÚSTICO I</td>\n",
              "      <td>ESCOLA DE MÚSICA</td>\n",
              "    </tr>\n",
              "    <tr>\n",
              "      <th>3</th>\n",
              "      <td>18646</td>\n",
              "      <td>MUT165</td>\n",
              "      <td>PIANO COMPLEMENTAR I</td>\n",
              "      <td>ESCOLA DE MÚSICA</td>\n",
              "    </tr>\n",
              "    <tr>\n",
              "      <th>4</th>\n",
              "      <td>18647</td>\n",
              "      <td>MUT167</td>\n",
              "      <td>PIANO COMPLEMENTAR III</td>\n",
              "      <td>ESCOLA DE MÚSICA</td>\n",
              "    </tr>\n",
              "  </tbody>\n",
              "</table>\n",
              "</div>"
            ],
            "text/plain": [
              "  id_componente  codigo                              nome unidade_responsavel\n",
              "0         18643  MUT508  COMPOSIÇÃO EM MÚSICA POPULAR III    ESCOLA DE MÚSICA\n",
              "1         18644  MUT516                      CO-REPETIÇÃO    ESCOLA DE MÚSICA\n",
              "2         18645  MUT520            CONTRABAIXO ACÚSTICO I    ESCOLA DE MÚSICA\n",
              "3         18646  MUT165              PIANO COMPLEMENTAR I    ESCOLA DE MÚSICA\n",
              "4         18647  MUT167            PIANO COMPLEMENTAR III    ESCOLA DE MÚSICA"
            ]
          },
          "metadata": {
            "tags": []
          },
          "execution_count": 39
        }
      ]
    },
    {
      "metadata": {
        "id": "lcPIOAE46sQe",
        "colab_type": "code",
        "colab": {
          "base_uri": "https://localhost:8080/",
          "height": 111
        },
        "outputId": "9f30cb42-80b6-4c03-a281-e8ea89cdf588"
      },
      "cell_type": "code",
      "source": [
        "disciplinas[disciplinas['codigo'] == 'IMD0019']"
      ],
      "execution_count": 40,
      "outputs": [
        {
          "output_type": "execute_result",
          "data": {
            "text/html": [
              "<div>\n",
              "<style scoped>\n",
              "    .dataframe tbody tr th:only-of-type {\n",
              "        vertical-align: middle;\n",
              "    }\n",
              "\n",
              "    .dataframe tbody tr th {\n",
              "        vertical-align: top;\n",
              "    }\n",
              "\n",
              "    .dataframe thead th {\n",
              "        text-align: right;\n",
              "    }\n",
              "</style>\n",
              "<table border=\"1\" class=\"dataframe\">\n",
              "  <thead>\n",
              "    <tr style=\"text-align: right;\">\n",
              "      <th></th>\n",
              "      <th>id_componente</th>\n",
              "      <th>codigo</th>\n",
              "      <th>nome</th>\n",
              "      <th>unidade_responsavel</th>\n",
              "    </tr>\n",
              "  </thead>\n",
              "  <tbody>\n",
              "    <tr>\n",
              "      <th>21351</th>\n",
              "      <td>52416</td>\n",
              "      <td>IMD0019</td>\n",
              "      <td>MASHUPS - RECRIANDO SISTEMAS ATRAVÉS DA WEB 2.0</td>\n",
              "      <td>INSTITUTO METROPOLE DIGITAL</td>\n",
              "    </tr>\n",
              "    <tr>\n",
              "      <th>23695</th>\n",
              "      <td>55031</td>\n",
              "      <td>IMD0019</td>\n",
              "      <td>RESOLUÇÃO DE PROBLEMAS MATEMÁTICOS PARA TI</td>\n",
              "      <td>INSTITUTO METROPOLE DIGITAL</td>\n",
              "    </tr>\n",
              "  </tbody>\n",
              "</table>\n",
              "</div>"
            ],
            "text/plain": [
              "      id_componente   codigo                                             nome  \\\n",
              "21351         52416  IMD0019  MASHUPS - RECRIANDO SISTEMAS ATRAVÉS DA WEB 2.0   \n",
              "23695         55031  IMD0019       RESOLUÇÃO DE PROBLEMAS MATEMÁTICOS PARA TI   \n",
              "\n",
              "               unidade_responsavel  \n",
              "21351  INSTITUTO METROPOLE DIGITAL  \n",
              "23695  INSTITUTO METROPOLE DIGITAL  "
            ]
          },
          "metadata": {
            "tags": []
          },
          "execution_count": 40
        }
      ]
    },
    {
      "metadata": {
        "id": "Crv1cYjeHK0g",
        "colab_type": "code",
        "outputId": "1c1fa5e2-0a3d-4d4e-a1ee-8a7a2c771fe8",
        "colab": {
          "base_uri": "https://localhost:8080/",
          "height": 544
        }
      },
      "cell_type": "code",
      "source": [
        "turmas_url = 'http://bit.do/turmas_ufrn_2015_2'\n",
        "turmas = pd.read_csv(turmas_url, sep=';')\n",
        "turmas.info()"
      ],
      "execution_count": 15,
      "outputs": [
        {
          "output_type": "stream",
          "text": [
            "<class 'pandas.core.frame.DataFrame'>\n",
            "RangeIndex: 14761 entries, 0 to 14760\n",
            "Data columns (total 26 columns):\n",
            "id_turma                    14761 non-null int64\n",
            "codigo_turma                14761 non-null object\n",
            "id_docente_interno          13903 non-null float64\n",
            "id_docente_externo          858 non-null float64\n",
            "observacao                  742 non-null object\n",
            "id_componente_curricular    14761 non-null int64\n",
            "nivel_ensino                14761 non-null object\n",
            "campus_turma                10128 non-null object\n",
            "local                       14510 non-null object\n",
            "ano                         14761 non-null int64\n",
            "periodo                     14761 non-null int64\n",
            "data_inicio                 14761 non-null object\n",
            "data_fim                    14761 non-null object\n",
            "descricao_horario           13034 non-null object\n",
            "total_solicitacoes          12339 non-null float64\n",
            "capacidade_aluno            13336 non-null float64\n",
            "tipo                        14761 non-null object\n",
            "distancia                   14761 non-null object\n",
            "data_consolidacao           13836 non-null object\n",
            "agrupadora                  14761 non-null object\n",
            "id_turma_agrupadora         876 non-null float64\n",
            "qtd_aulas_lancadas          13836 non-null float64\n",
            "situacao_turma              14761 non-null object\n",
            "convenio                    0 non-null float64\n",
            "modalidade_participantes    14761 non-null object\n",
            "Unnamed: 25                 0 non-null float64\n",
            "dtypes: float64(8), int64(4), object(14)\n",
            "memory usage: 2.9+ MB\n"
          ],
          "name": "stdout"
        }
      ]
    },
    {
      "metadata": {
        "id": "mP2Hyxr7bx1q",
        "colab_type": "code",
        "colab": {
          "base_uri": "https://localhost:8080/",
          "height": 544
        },
        "outputId": "e9c2e27b-f8fa-4679-800f-ea037aaf3b21"
      },
      "cell_type": "code",
      "source": [
        "rptmi_turmas = turmas[turmas['id_componente_curricular'] == 55031]\n",
        "\n",
        "id_turma_1 = rptmi_turmas.at[3461,'id_turma']\n",
        "id_turma_2 = rptmi_turmas.at[3471,'id_turma']\n",
        "rptmi_turmas.info()"
      ],
      "execution_count": 45,
      "outputs": [
        {
          "output_type": "stream",
          "text": [
            "<class 'pandas.core.frame.DataFrame'>\n",
            "Int64Index: 6 entries, 3461 to 3475\n",
            "Data columns (total 26 columns):\n",
            "id_turma                    6 non-null int64\n",
            "codigo_turma                6 non-null object\n",
            "id_docente_interno          6 non-null float64\n",
            "id_docente_externo          0 non-null float64\n",
            "observacao                  0 non-null object\n",
            "id_componente_curricular    6 non-null int64\n",
            "nivel_ensino                6 non-null object\n",
            "campus_turma                6 non-null object\n",
            "local                       6 non-null object\n",
            "ano                         6 non-null int64\n",
            "periodo                     6 non-null int64\n",
            "data_inicio                 6 non-null object\n",
            "data_fim                    6 non-null object\n",
            "descricao_horario           6 non-null object\n",
            "total_solicitacoes          6 non-null float64\n",
            "capacidade_aluno            6 non-null float64\n",
            "tipo                        6 non-null object\n",
            "distancia                   6 non-null object\n",
            "data_consolidacao           6 non-null object\n",
            "agrupadora                  6 non-null object\n",
            "id_turma_agrupadora         0 non-null float64\n",
            "qtd_aulas_lancadas          6 non-null float64\n",
            "situacao_turma              6 non-null object\n",
            "convenio                    0 non-null float64\n",
            "modalidade_participantes    6 non-null object\n",
            "Unnamed: 25                 0 non-null float64\n",
            "dtypes: float64(8), int64(4), object(14)\n",
            "memory usage: 1.4+ KB\n"
          ],
          "name": "stdout"
        }
      ]
    },
    {
      "metadata": {
        "id": "Twtq3iGiqGmt",
        "colab_type": "code",
        "colab": {
          "base_uri": "https://localhost:8080/",
          "height": 136
        },
        "outputId": "7e08a71c-5fd2-4109-a72a-fbe324b5b4bd"
      },
      "cell_type": "code",
      "source": [
        "rptmi_turmas['capacidade_aluno']"
      ],
      "execution_count": 8,
      "outputs": [
        {
          "output_type": "execute_result",
          "data": {
            "text/plain": [
              "3461    76.0\n",
              "3462    76.0\n",
              "3471    60.0\n",
              "3472    60.0\n",
              "3474    61.0\n",
              "3475    61.0\n",
              "Name: capacidade_aluno, dtype: float64"
            ]
          },
          "metadata": {
            "tags": []
          },
          "execution_count": 8
        }
      ]
    },
    {
      "metadata": {
        "id": "JniWdY2ab_EZ",
        "colab_type": "code",
        "colab": {}
      },
      "cell_type": "code",
      "source": [
        ""
      ],
      "execution_count": 0,
      "outputs": []
    },
    {
      "metadata": {
        "id": "GcZGG2r5fEvB",
        "colab_type": "code",
        "outputId": "81331bbf-7bdc-462d-bd25-813163e6c99c",
        "colab": {
          "base_uri": "https://localhost:8080/",
          "height": 289
        }
      },
      "cell_type": "code",
      "source": [
        "notas_turma = notas[notas['id_turma'] == id_turma_2]\n",
        "notas_turma.info()"
      ],
      "execution_count": 12,
      "outputs": [
        {
          "output_type": "stream",
          "text": [
            "<class 'pandas.core.frame.DataFrame'>\n",
            "Int64Index: 92 entries, 86281 to 533198\n",
            "Data columns (total 11 columns):\n",
            "id_turma               92 non-null int64\n",
            "discente               92 non-null object\n",
            "id_curso               86 non-null float64\n",
            "unidade                84 non-null float64\n",
            "nota                   80 non-null float64\n",
            "reposicao              84 non-null object\n",
            "faltas_unidade         84 non-null float64\n",
            "media_final            78 non-null float64\n",
            "numero_total_faltas    84 non-null float64\n",
            "descricao              92 non-null object\n",
            "Unnamed: 10            0 non-null float64\n",
            "dtypes: float64(7), int64(1), object(3)\n",
            "memory usage: 8.6+ KB\n"
          ],
          "name": "stdout"
        }
      ]
    },
    {
      "metadata": {
        "id": "eOj9dkSZgzYY",
        "colab_type": "code",
        "outputId": "d80daca3-96e8-4ac8-edeb-31292cc59d1f",
        "colab": {
          "base_uri": "https://localhost:8080/",
          "height": 204
        }
      },
      "cell_type": "code",
      "source": [
        "notas_turma.head()"
      ],
      "execution_count": 0,
      "outputs": [
        {
          "output_type": "execute_result",
          "data": {
            "text/html": [
              "<div>\n",
              "<style scoped>\n",
              "    .dataframe tbody tr th:only-of-type {\n",
              "        vertical-align: middle;\n",
              "    }\n",
              "\n",
              "    .dataframe tbody tr th {\n",
              "        vertical-align: top;\n",
              "    }\n",
              "\n",
              "    .dataframe thead th {\n",
              "        text-align: right;\n",
              "    }\n",
              "</style>\n",
              "<table border=\"1\" class=\"dataframe\">\n",
              "  <thead>\n",
              "    <tr style=\"text-align: right;\">\n",
              "      <th></th>\n",
              "      <th>id_turma</th>\n",
              "      <th>discente</th>\n",
              "      <th>id_curso</th>\n",
              "      <th>unidade</th>\n",
              "      <th>nota</th>\n",
              "      <th>reposicao</th>\n",
              "      <th>faltas_unidade</th>\n",
              "      <th>media_final</th>\n",
              "      <th>numero_total_faltas</th>\n",
              "      <th>descricao</th>\n",
              "      <th>Unnamed: 10</th>\n",
              "    </tr>\n",
              "  </thead>\n",
              "  <tbody>\n",
              "    <tr>\n",
              "      <th>115968</th>\n",
              "      <td>57565214</td>\n",
              "      <td>b433ff4854fc0247521a8d85ac933932</td>\n",
              "      <td>92127264.0</td>\n",
              "      <td>1.0</td>\n",
              "      <td>7.5</td>\n",
              "      <td>f</td>\n",
              "      <td>0.0</td>\n",
              "      <td>7.5</td>\n",
              "      <td>0.0</td>\n",
              "      <td>APROVADO</td>\n",
              "      <td>NaN</td>\n",
              "    </tr>\n",
              "    <tr>\n",
              "      <th>115969</th>\n",
              "      <td>57565214</td>\n",
              "      <td>b433ff4854fc0247521a8d85ac933932</td>\n",
              "      <td>92127264.0</td>\n",
              "      <td>2.0</td>\n",
              "      <td>7.0</td>\n",
              "      <td>f</td>\n",
              "      <td>0.0</td>\n",
              "      <td>7.5</td>\n",
              "      <td>0.0</td>\n",
              "      <td>APROVADO</td>\n",
              "      <td>NaN</td>\n",
              "    </tr>\n",
              "    <tr>\n",
              "      <th>115970</th>\n",
              "      <td>57565214</td>\n",
              "      <td>b433ff4854fc0247521a8d85ac933932</td>\n",
              "      <td>92127264.0</td>\n",
              "      <td>3.0</td>\n",
              "      <td>8.0</td>\n",
              "      <td>f</td>\n",
              "      <td>0.0</td>\n",
              "      <td>7.5</td>\n",
              "      <td>0.0</td>\n",
              "      <td>APROVADO</td>\n",
              "      <td>NaN</td>\n",
              "    </tr>\n",
              "    <tr>\n",
              "      <th>115971</th>\n",
              "      <td>57565214</td>\n",
              "      <td>f8fbf27b209754521cdbc40840a5a8c3</td>\n",
              "      <td>92127264.0</td>\n",
              "      <td>1.0</td>\n",
              "      <td>5.5</td>\n",
              "      <td>f</td>\n",
              "      <td>0.0</td>\n",
              "      <td>6.0</td>\n",
              "      <td>0.0</td>\n",
              "      <td>APROVADO POR NOTA</td>\n",
              "      <td>NaN</td>\n",
              "    </tr>\n",
              "    <tr>\n",
              "      <th>115972</th>\n",
              "      <td>57565214</td>\n",
              "      <td>f8fbf27b209754521cdbc40840a5a8c3</td>\n",
              "      <td>92127264.0</td>\n",
              "      <td>2.0</td>\n",
              "      <td>5.0</td>\n",
              "      <td>f</td>\n",
              "      <td>0.0</td>\n",
              "      <td>6.0</td>\n",
              "      <td>0.0</td>\n",
              "      <td>APROVADO POR NOTA</td>\n",
              "      <td>NaN</td>\n",
              "    </tr>\n",
              "  </tbody>\n",
              "</table>\n",
              "</div>"
            ],
            "text/plain": [
              "        id_turma                          discente    id_curso  unidade  nota  \\\n",
              "115968  57565214  b433ff4854fc0247521a8d85ac933932  92127264.0      1.0   7.5   \n",
              "115969  57565214  b433ff4854fc0247521a8d85ac933932  92127264.0      2.0   7.0   \n",
              "115970  57565214  b433ff4854fc0247521a8d85ac933932  92127264.0      3.0   8.0   \n",
              "115971  57565214  f8fbf27b209754521cdbc40840a5a8c3  92127264.0      1.0   5.5   \n",
              "115972  57565214  f8fbf27b209754521cdbc40840a5a8c3  92127264.0      2.0   5.0   \n",
              "\n",
              "       reposicao  faltas_unidade  media_final  numero_total_faltas  \\\n",
              "115968         f             0.0          7.5                  0.0   \n",
              "115969         f             0.0          7.5                  0.0   \n",
              "115970         f             0.0          7.5                  0.0   \n",
              "115971         f             0.0          6.0                  0.0   \n",
              "115972         f             0.0          6.0                  0.0   \n",
              "\n",
              "                descricao  Unnamed: 10  \n",
              "115968           APROVADO          NaN  \n",
              "115969           APROVADO          NaN  \n",
              "115970           APROVADO          NaN  \n",
              "115971  APROVADO POR NOTA          NaN  \n",
              "115972  APROVADO POR NOTA          NaN  "
            ]
          },
          "metadata": {
            "tags": []
          },
          "execution_count": 46
        }
      ]
    },
    {
      "metadata": {
        "id": "mTLDTcdHhHSZ",
        "colab_type": "code",
        "colab": {}
      },
      "cell_type": "code",
      "source": [
        "class Turmas(object):\n",
        "  def __init__(self, searched_year):\n",
        "    self.turmas_url = 'http://bit.do/turmas_ufrn_'+searched_year\n",
        "    self.notas_url = 'http://bit.do/notas_ufrn_'+searched_year\n",
        "    self.turmas = pd.DataFrame()\n",
        "    self.notas = pd.DataFrame()\n",
        "   \n",
        "  def read_data(self):\n",
        "    self.turmas = pd.read_csv(turmas_url, sep=';')\n",
        "    self.notas = pd.read_csv(notas_url, sep=';')\n",
        "   \n",
        "  def set_id_componente(self):\n",
        "    disciplinas_url = 'http://bit.do/componentes_curriculares_ufrn'\n",
        "    disciplinas = pd.read_csv(disciplinas_url, sep=';', usecols=['id_componente','codigo','nome','unidade_responsavel'])\n",
        "    \n",
        "    self.id_componente = disciplinas[disciplinas['nome'] == 'RESOLUÇÃO DE PROBLEMAS MATEMÁTICOS PARA TI']['id_componente']\n",
        "    \n",
        "  def set_id_curso(self):\n",
        "    cursos_url = 'http://dados.ufrn.br/dataset/02526b96-cf40-4507-90b0-3afe5ddd53e7/resource/a10bc434-9a2d-491a-ae8c-41cf643c35bc/download/cursos-de-graduacao.csv'\n",
        "    cursos_url = pd.read_csv(cursos_url, sep=';')\n",
        "    \n",
        "    self.id_curso = cursos_url[cursos_url['nome'] == 'TECNOLOGIA DA INFORMAÇÃO']['id_curso']\n",
        "  \n",
        "  def get_info(self):\n",
        "    print(self.turmas.info())\n",
        "    print(self.notas.info())\n",
        "  "
      ],
      "execution_count": 0,
      "outputs": []
    },
    {
      "metadata": {
        "id": "Fu7VRsxryuVn",
        "colab_type": "code",
        "colab": {}
      },
      "cell_type": "code",
      "source": [
        "turmas_2015 = Turmas('2015_2')\n",
        "turmas_2015.read_data()"
      ],
      "execution_count": 0,
      "outputs": []
    },
    {
      "metadata": {
        "id": "BKIh_Jz41HC6",
        "colab_type": "code",
        "colab": {}
      },
      "cell_type": "code",
      "source": [
        "turmas_2015.set_id_componente()\n",
        "turmas_2015.set_id_curso()"
      ],
      "execution_count": 0,
      "outputs": []
    },
    {
      "metadata": {
        "id": "gc_oN0Yk9NBo",
        "colab_type": "code",
        "colab": {
          "base_uri": "https://localhost:8080/",
          "height": 85
        },
        "outputId": "101af8c4-623d-4e4c-ab0d-5a6d9ab09f52"
      },
      "cell_type": "code",
      "source": [
        "print(turmas_2015.id_componente)\n",
        "print(turmas_2015.id_curso)"
      ],
      "execution_count": 75,
      "outputs": [
        {
          "output_type": "stream",
          "text": [
            "23695    55031\n",
            "Name: id_componente, dtype: object\n",
            "111    92127264\n",
            "Name: id_curso, dtype: int64\n"
          ],
          "name": "stdout"
        }
      ]
    },
    {
      "metadata": {
        "id": "QE-eC5ooMrlN",
        "colab_type": "code",
        "colab": {}
      },
      "cell_type": "code",
      "source": [
        ""
      ],
      "execution_count": 0,
      "outputs": []
    }
  ]
}